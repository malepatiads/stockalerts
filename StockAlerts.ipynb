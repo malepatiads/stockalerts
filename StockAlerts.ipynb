{
 "cells": [
  {
   "cell_type": "code",
   "execution_count": null,
   "id": "greek-vertical",
   "metadata": {},
   "outputs": [],
   "source": [
    "pip install pandas-datareader"
   ]
  },
  {
   "cell_type": "code",
   "execution_count": null,
   "id": "indoor-midwest",
   "metadata": {},
   "outputs": [],
   "source": [
    "pip install yfinance"
   ]
  },
  {
   "cell_type": "code",
   "execution_count": null,
   "id": "acting-reconstruction",
   "metadata": {},
   "outputs": [],
   "source": [
    "from pandas_datareader import data as pdr\n",
    "from datetime import date as datetime\n",
    "import yfinance as yf\n",
    "yf.pdr_override()\n",
    "import pandas as pd"
   ]
  },
  {
   "cell_type": "code",
   "execution_count": null,
   "id": "going-disposal",
   "metadata": {},
   "outputs": [],
   "source": [
    "ticker_list=['PFE','EBAY','ONLN','SCHW','AES','COG']\n",
    "today = datetime.today()\n",
    "# We can get data by our choice by giving days bracket\n",
    "# start_date=\"2021–05–01\"\n",
    "# end_date=\"2021–06–23\"\n",
    "start_date = datetime(2020, 5, 1)\n",
    "end_date = datetime(2021, 6, 22)\n",
    "files=[]\n",
    "def getData(ticker):\n",
    "    \n",
    "    data = pdr.get_data_yahoo(ticker, start=start_date, end=today)\n",
    "    dataname= ticker+'_'+str(today)\n",
    "    files.append(dataname)\n",
    "    #print(data)\n",
    "    #This selects the 'Adj Close' column\n",
    "    close = data['Adj Close']\n",
    "    #This converts the date strings in the index into pandas datetime format:\n",
    "    close.index = pd.to_datetime(close.index)\n",
    "    sma50 = close.rolling(window=50).mean()\n",
    "    result = sma50.get(key = '2021-06-22')\n",
    "    print(ticker , '',result)\n",
    "    #print(sma50)\n",
    "    "
   ]
  },
  {
   "cell_type": "code",
   "execution_count": null,
   "id": "incorrect-questionnaire",
   "metadata": {},
   "outputs": [],
   "source": [
    "for tik in ticker_list:\n",
    "    getData(tik)\n",
    "    "
   ]
  },
  {
   "cell_type": "code",
   "execution_count": null,
   "id": "incident-hartford",
   "metadata": {},
   "outputs": [],
   "source": []
  }
 ],
 "metadata": {
  "kernelspec": {
   "display_name": "Python 3",
   "language": "python",
   "name": "python3"
  },
  "language_info": {
   "codemirror_mode": {
    "name": "ipython",
    "version": 3
   },
   "file_extension": ".py",
   "mimetype": "text/x-python",
   "name": "python",
   "nbconvert_exporter": "python",
   "pygments_lexer": "ipython3",
   "version": "3.7.10"
  }
 },
 "nbformat": 4,
 "nbformat_minor": 5
}
